{
 "cells": [
  {
   "cell_type": "code",
   "execution_count": 7,
   "metadata": {},
   "outputs": [
    {
     "name": "stdout",
     "output_type": "stream",
     "text": [
      "\u001b[2mUsing Python 3.12.3 environment at: /home/jake/git/vllm-chatbot/.venv\u001b[0m\n",
      "\u001b[2mAudited \u001b[1m1 package\u001b[0m \u001b[2min 3ms\u001b[0m\u001b[0m\n",
      "\u001b[2mUsing Python 3.12.3 environment at: /home/jake/git/vllm-chatbot/.venv\u001b[0m\n",
      "\u001b[2mAudited \u001b[1m1 package\u001b[0m \u001b[2min 1ms\u001b[0m\u001b[0m\n"
     ]
    }
   ],
   "source": [
    "# install datasets library\n",
    "!uv pip install datasets\n",
    "!uv pip install python-dotenv"
   ]
  },
  {
   "cell_type": "code",
   "execution_count": 8,
   "metadata": {},
   "outputs": [
    {
     "data": {
      "text/plain": [
       "True"
      ]
     },
     "execution_count": 8,
     "metadata": {},
     "output_type": "execute_result"
    }
   ],
   "source": [
    "import os\n",
    "from dotenv import load_dotenv\n",
    "\n",
    "load_dotenv(\".env\")"
   ]
  },
  {
   "cell_type": "markdown",
   "metadata": {},
   "source": [
    "# Load a csv file to generate dataset"
   ]
  },
  {
   "cell_type": "code",
   "execution_count": 9,
   "metadata": {},
   "outputs": [
    {
     "data": {
      "text/html": [
       "<div>\n",
       "<style scoped>\n",
       "    .dataframe tbody tr th:only-of-type {\n",
       "        vertical-align: middle;\n",
       "    }\n",
       "\n",
       "    .dataframe tbody tr th {\n",
       "        vertical-align: top;\n",
       "    }\n",
       "\n",
       "    .dataframe thead th {\n",
       "        text-align: right;\n",
       "    }\n",
       "</style>\n",
       "<table border=\"1\" class=\"dataframe\">\n",
       "  <thead>\n",
       "    <tr style=\"text-align: right;\">\n",
       "      <th></th>\n",
       "      <th>Question</th>\n",
       "      <th>Answer</th>\n",
       "    </tr>\n",
       "  </thead>\n",
       "  <tbody>\n",
       "    <tr>\n",
       "      <th>0</th>\n",
       "      <td>What kind of company is Movensys and what is i...</td>\n",
       "      <td>Movensys is an IT company that provides total ...</td>\n",
       "    </tr>\n",
       "    <tr>\n",
       "      <th>1</th>\n",
       "      <td>What are the main product categories offered b...</td>\n",
       "      <td>Movensys offers three main product categories:...</td>\n",
       "    </tr>\n",
       "    <tr>\n",
       "      <th>2</th>\n",
       "      <td>What is the core philosophy or mission behind ...</td>\n",
       "      <td>Movensys' core philosophy is centered on provi...</td>\n",
       "    </tr>\n",
       "    <tr>\n",
       "      <th>3</th>\n",
       "      <td>What is Movensys' physical address and primary...</td>\n",
       "      <td>Movensys is located at 8F Joy City Tower, 25 H...</td>\n",
       "    </tr>\n",
       "    <tr>\n",
       "      <th>4</th>\n",
       "      <td>What is Movensys' primary focus and core busin...</td>\n",
       "      <td>Movensys provides Software Motion Control solu...</td>\n",
       "    </tr>\n",
       "  </tbody>\n",
       "</table>\n",
       "</div>"
      ],
      "text/plain": [
       "                                            Question  \\\n",
       "0  What kind of company is Movensys and what is i...   \n",
       "1  What are the main product categories offered b...   \n",
       "2  What is the core philosophy or mission behind ...   \n",
       "3  What is Movensys' physical address and primary...   \n",
       "4  What is Movensys' primary focus and core busin...   \n",
       "\n",
       "                                              Answer  \n",
       "0  Movensys is an IT company that provides total ...  \n",
       "1  Movensys offers three main product categories:...  \n",
       "2  Movensys' core philosophy is centered on provi...  \n",
       "3  Movensys is located at 8F Joy City Tower, 25 H...  \n",
       "4  Movensys provides Software Motion Control solu...  "
      ]
     },
     "execution_count": 9,
     "metadata": {},
     "output_type": "execute_result"
    }
   ],
   "source": [
    "import pandas as pd\n",
    "\n",
    "df = pd.read_csv('movensys_web_info_2508.csv', encoding='latin1')\n",
    "df.head()"
   ]
  },
  {
   "cell_type": "code",
   "execution_count": 10,
   "metadata": {},
   "outputs": [
    {
     "data": {
      "text/plain": [
       "23"
      ]
     },
     "execution_count": 10,
     "metadata": {},
     "output_type": "execute_result"
    }
   ],
   "source": [
    "# loaded lines\n",
    "len(df)"
   ]
  },
  {
   "cell_type": "markdown",
   "metadata": {},
   "source": [
    "# Generate QA Pair"
   ]
  },
  {
   "cell_type": "code",
   "execution_count": 11,
   "metadata": {},
   "outputs": [],
   "source": [
    "qa_pair = []\n",
    "\n",
    "for _, row in df.iterrows():\n",
    "    qa_pair.append({'question': row['Question'], 'answer': row['Answer']})"
   ]
  },
  {
   "cell_type": "code",
   "execution_count": 12,
   "metadata": {},
   "outputs": [
    {
     "data": {
      "text/plain": [
       "[{'question': 'What kind of company is Movensys and what is its primary focus?',\n",
       "  'answer': 'Movensys is an IT company that provides total motion control solutions for factory automation. It is also described as a software-based controller platform provider.'},\n",
       " {'question': 'What are the main product categories offered by Movensys?',\n",
       "  'answer': 'Movensys offers three main product categories: Software Motion Control, which specifically includes WMX and WMX Extension. This is described as a software-based motion control platform. Hardware Solution, which provides a variety of solutions such as IPC, IO, Servo, Step, and Module. Navigation Software for AMR (Autonomous Mobile Robot), referred to as AMR Solution. This is a total AMR control platform.'},\n",
       " {'question': \"What is the core philosophy or mission behind Movensys' technology?\",\n",
       "  'answer': \"Movensys' core philosophy is centered on providing more innovative value beyond motion control through its open architecture-based technology. Their solutions are designed to make all customer?\\x99s equipment smarter and contribute to making factories smarter. Movensys positions itself as the most powerful solution provider in the era of industrial automation connected to the smart factory.\"},\n",
       " {'question': \"What is Movensys' physical address and primary contact information?\",\n",
       "  'answer': 'Movensys is located at 8F Joy City Tower, 25 Hwangsaeul-ro 258 beon-gil, Bundang-gu, Seongnam-si, Gyeonggi-do, Republic of Korea 13595. Their telephone number is +82-31-895-5066, and their fax number is +82-70-4015-5066.'},\n",
       " {'question': \"What is Movensys' primary focus and core business as indicated by its products and services?\",\n",
       "  'answer': \"Movensys provides Software Motion Control solutions, specifically WMX and WMX Extension, which are software-based motion control platforms. They also offer Hardware Solutions including IPC, IO, Servo, Step, and Module, and Navigation Software for AMR (Autonomous Mobile Robot), referred to as AMR Solution. Movensys' core Soft Motion technology enables motion control on standard Windows PCs using software alone, aiming to replace traditional hardware motion controller boards and simplify system overhead.\"},\n",
       " {'question': 'What are the three main product categories offered by Movensys?',\n",
       "  'answer': 'Movensys offers three primary product categories: Software Motion Control, which includes WMX and WMX Extension; Hardware Solution, encompassing products like IPC, IO, Servo, Step, and Module; and Navigation Software for AMR, known as AMR Solution.'},\n",
       " {'question': 'How does WMX function as a motion control solution, and what are its main advantages?',\n",
       "  'answer': \"WMX is a software-based motion control solution developed using Movensys' unique Soft Motion technology. Its main advantage is enabling motion control of equipment on standard Windows PCs using software alone. This capability helps in replacing traditional motion controller boards by reducing complex cabling of legacy hardware-based systems and simplifying overall system overhead. Furthermore, customers can customize real-time control threads for high speed and accuracy.\"},\n",
       " {'question': 'What are the key features and architectural principles of WMX?',\n",
       "  'answer': 'WMX is built on a real-time operating system (RTOS), ensuring periodic and real-time control by occupying one or more cores of a multicore CPU. It features an Open Architecture (Moventecture), which enables users to develop additional functions beyond basic motion functions. Users can develop desired functionality using general programming languages such as C, C++, C#, VB, and Python. WMX has also obtained the highest level of EtherCAT Master Class, Class A standard, and supports communication protocols including EtherCAT, CC-Link IE TSN, and MECHATROLINK-4, allowing for hybrid control.'},\n",
       " {'question': 'What are the different licensing options and supported operating system environments for WMX?',\n",
       "  'answer': 'WMX offers License options including Windows, Standard, and Advanced. For operating system environments, it supports both Windows + Real-time OS RTX64, which can control 128 axes (1ms) to 16 axes (125¥ìs), and Windows OS (Non Real-time) for EtherCAT (128 axes, 8ms) and Simulation (128 axes, 1~8ms). RTOS trial versions are available for up to 3 months, while non-RTOS versions allow continuous communication for one hour without a license and API testing in simulation mode without functional limitations. Certain WMX3 options like AVX, SCARA, and 6-DOF features are exclusively available with the advanced license.'},\n",
       " {'question': 'What are the detailed technical specifications of WMX regarding control axis, I/O, communication, and nodes?',\n",
       "  'answer': 'WMX supports 4 to 128 Axes for control, with up to 64 sets for synchronous and interpolation control. It handles 64,000 inputs and 64,000 outputs, totaling 15.625KB. The Communication / Command Cycle ranges from 31.25¥ìs to 8ms, varying based on CPU performance and communication platform. The Maximum Number of Nodes supported is 256. Its communication platforms include EtherCAT, CC-Link IE TSN, and MECHATROLINK-4, and it supports communication connection methods such as Line, Ring, Star, and Hybrid Communication.'},\n",
       " {'question': 'What are the recommended PC specifications for running WMX?',\n",
       "  'answer': 'The recommended PC specifications for WMX include an Intel 8th Gen or higher CPU (i3, i5, i7, Xeon). The operating system should ideally be Windows 10 IoT Enterprise LTSC recommended, specifically Version Windows 10 1809 or higher. It also requires support for an Intel NIC and 8GB or more of RAM.'},\n",
       " {'question': \"In which industries and specific applications is Movensys' WMX technology utilized?\",\n",
       "  'answer': \"Movensys' WMX technology is applied across several industries: Semiconductor, used in Front/Back-end Processes (e.g., Photo, Etching, Wet/Dry Cleaner, Inspection), for Wafer Transfer Robots, and in Stocker/OHT/AMR systems. Display, applied in Front/Back-end Processes (e.g., Cleaner, Exposure, Coater, Etcher, Inspection), for Glass Transfer Robots, and in Stocker/OHS/AMR systems. Smart Device, utilized for Camera Inspection, Flex Bending/Dispenser/Assembly, and SCARA Robots. Secondary Cell (EV Battery), employed in processes like Stacking/Packaging/Welding, Activation Process, and for OHT/AMR systems.\"},\n",
       " {'question': \"Describe Movensys' core technology, Soft Motion, including its components and key benefits.\",\n",
       "  'answer': \"Movensys' core technology is Soft Motion, which is comprised of a communication-optimized Soft Master, real-time modular synchronization, and dynamic channel management technologies. This patented technology features a highly optimized modular and open architecture, offering broad compatibility with various software platforms and networks. Key benefits include: Stable real-time implementation, achieved by storing control commands in memory channels and buffers for regular transmission, ensuring fast and accurate control regardless of the network, and stable control through automatic updates on the real-time OS. Multi-network capability, allowing for various network matching by simply changing the interface due to the separation of control and communication modules, enabling the utilization of hybrid networks. Program extensibility, offering optimal linkage with third-party programs and providing an API library for users to develop and customize their own sequences. Device reliability and scalability, enabling the creation and addition of separate control devices, maintaining optimal system resources through automatic status monitoring, and minimizing conflicts between devices by using individual memory and buffers. High compatibility with hardware, compatible with various slave hardware considering only the communication protocol, maximizing hardware scalability in multi-network environments.\"},\n",
       " {'question': 'What is WMX Extension, and what are its key additional options?',\n",
       "  'answer': 'WMX Extension is an additional option that supplements WMX, including its robot option, 3D simulation option, and other options. Its key additional options include: Robot Option, which supports driving multiple SCARA Robots and 6-DOF (6-Degree Of Freedom) robots within the maximum number of axes allowed by the WMX license. Other Options, which features AVX (Anti-Vibration Extended License), able to reduce vibration generated during motion driving by using SynseIT (VMS) with AVX measurements.'},\n",
       " {'question': 'What is the upcoming product, SDMC, developed by Movensys?',\n",
       "  'answer': \"Movensys' upcoming product is SDMC (Software Defined Motion Controller), which is described as a next-generation, cloud-based soft motion solution designed for factory-wide optimization beyond individual equipment.\"},\n",
       " {'question': 'What support services does Movensys provide to its users and customers?',\n",
       "  'answer': 'Movensys offers comprehensive support services, including access to FAQ (Frequently Asked Questions), options for obtaining a Trial License, Training, the ability to request a Quote, direct Tech Support, and a network of Distributors. Users can also contact them via their website for inquiries about WMX and Movensys hardware products.'},\n",
       " {'question': 'How can customers access Movensys products for evaluation or download technical documentation?',\n",
       "  'answer': 'Customers can access Movensys products and documentation through WMX Download and Technical Resources. For evaluation, a Trial License Version is available, which allows users to try a free demo OS before purchasing WMX. Non-RTOS trial versions allow continuous communication for one hour without a license, and API testing in simulation mode, while RTOS trial versions can be used for up to 3 months.'},\n",
       " {'question': 'What kind of content can be found in Movensys\\' \"Newsroom\" section?',\n",
       "  'answer': 'The \"Newsroom\" section of Movensys typically features News, Event information, and a Blog.'},\n",
       " {'question': 'Which company recently became part of the Movensys family, and what is its area of expertise?',\n",
       "  'answer': 'Skylla Technologies, a specialized AMR (Autonomous Mobile Robot) control software technology company under MIT in Boston, USA, became a member of the Movensys family since March 23 2023.'},\n",
       " {'question': 'How is Movensys developing its \"Skylla\" line-up of AMR control solutions?',\n",
       "  'answer': 'Movensys is developing the \"Skylla\" line-up of AMR control solutions by combining the Skylla autonomous driving solution with WMX, and plans to launch products in stages in the future.'},\n",
       " {'question': 'Describe Skylla Jetstream, including its purpose, features, and release timeline.',\n",
       "  'answer': 'Skylla Jetstream is an Autonomous Driving Solution that is a high-performance, high-precision AMR autonomous driving solution designed to enable sophisticated driving through realistic mapping. Its features include Jetstream Core, which implements accurate 3D mapping using 2D Lidar and high-precision repeatability driving and avoidance algorithms. The Jetstream Server component implements high-precision repeatability of robot tip position (¡¾0.3mm) using various sensors and cameras. Skylla Jetstream is scheduled for release by 2025. Additional information can be found on the Skylla homepage.'},\n",
       " {'question': 'What is Skylla Nova, and what are its key benefits for AMR control?',\n",
       "  'answer': 'Skylla Nova is an Integrated All-in-one Solution that integrates WMX and Jetstream. Its benefits include the ability to integrate three or more existing individual controllers into one software to optimize cost and efficiency. It also provides improved positioning and motion precision with Jetstream functions and real-time control performance. Furthermore, Nova is designed to reduce space, weight, and power consumption by 1/3, maximizing operation time. Skylla Nova is scheduled for development by 2025.'},\n",
       " {'question': 'What is Skylla Galaxy, and what functionalities does it offer for AMR management?',\n",
       "  'answer': 'Skylla Galaxy is an upper ACS (AMR Control System) solution aimed at optimal performance scheduling of AMRs driven by Jetstream and Nova. Its functionalities include fleet management capable of operating AMRs not only on a Grid path but also on a Natural path. Galaxy also employs an efficient scheduling concept by actively applying centralized/decentralized algorithms. Movensys is also considering the development of a work scheduling optimization function utilizing AI for Galaxy.'}]"
      ]
     },
     "execution_count": 12,
     "metadata": {},
     "output_type": "execute_result"
    }
   ],
   "source": [
    "qa_pair"
   ]
  },
  {
   "cell_type": "code",
   "execution_count": 13,
   "metadata": {},
   "outputs": [],
   "source": [
    "import json\n",
    "\n",
    "with open(\"qa_pair.jsonl\", \"w\", encoding=\"utf-8\") as f:\n",
    "   # Write each QA pair as a JSON object on a new line\n",
    "    for pair in qa_pair:\n",
    "        f.write(json.dumps(pair, ensure_ascii=False) + \"\\n\")"
   ]
  },
  {
   "cell_type": "markdown",
   "metadata": {},
   "source": [
    "# Load the json file as a Hugging Face Datasets format"
   ]
  },
  {
   "cell_type": "code",
   "execution_count": 14,
   "metadata": {},
   "outputs": [
    {
     "name": "stderr",
     "output_type": "stream",
     "text": [
      "/home/jake/git/vllm-chatbot/.venv/lib/python3.12/site-packages/tqdm/auto.py:21: TqdmWarning: IProgress not found. Please update jupyter and ipywidgets. See https://ipywidgets.readthedocs.io/en/stable/user_install.html\n",
      "  from .autonotebook import tqdm as notebook_tqdm\n",
      "Generating train split: 23 examples [00:00, 7656.88 examples/s]\n"
     ]
    }
   ],
   "source": [
    "from datasets import load_dataset\n",
    "\n",
    "# load the jsonl file\n",
    "dataset = load_dataset(\"json\", data_files=\"qa_pair.jsonl\")"
   ]
  },
  {
   "cell_type": "code",
   "execution_count": 15,
   "metadata": {},
   "outputs": [
    {
     "data": {
      "text/plain": [
       "DatasetDict({\n",
       "    train: Dataset({\n",
       "        features: ['question', 'answer'],\n",
       "        num_rows: 23\n",
       "    })\n",
       "})"
      ]
     },
     "execution_count": 15,
     "metadata": {},
     "output_type": "execute_result"
    }
   ],
   "source": [
    "dataset"
   ]
  },
  {
   "cell_type": "code",
   "execution_count": 16,
   "metadata": {},
   "outputs": [
    {
     "name": "stderr",
     "output_type": "stream",
     "text": [
      "Creating parquet from Arrow format: 100%|██████████| 1/1 [00:00<00:00, 468.27ba/s]\n",
      "Uploading the dataset shards: 100%|██████████| 1/1 [00:02<00:00,  2.37s/ shards]\n"
     ]
    },
    {
     "data": {
      "text/plain": [
       "CommitInfo(commit_url='https://huggingface.co/datasets/Jake5/movensys-info/commit/f80080c500a27c63f5344e183c19f50bfe32622c', commit_message='Upload dataset', commit_description='', oid='f80080c500a27c63f5344e183c19f50bfe32622c', pr_url=None, repo_url=RepoUrl('https://huggingface.co/datasets/Jake5/movensys-info', endpoint='https://huggingface.co', repo_type='dataset', repo_id='Jake5/movensys-info'), pr_revision=None, pr_num=None)"
      ]
     },
     "execution_count": 16,
     "metadata": {},
     "output_type": "execute_result"
    }
   ],
   "source": [
    "from huggingface_hub import HfApi\n",
    "\n",
    "# Create a HfApi instance\n",
    "api = HfApi()\n",
    "\n",
    "# repo to updload this datset\n",
    "repo_name = \"Jake5/movensys-info\"\n",
    "token = os.getenv(\"HF_TOKEN\")\n",
    "\n",
    "# Push the dataset to the Hugging Face Hub\n",
    "dataset.push_to_hub(repo_name, token=token)"
   ]
  },
  {
   "cell_type": "code",
   "execution_count": null,
   "metadata": {},
   "outputs": [],
   "source": []
  }
 ],
 "metadata": {
  "kernelspec": {
   "display_name": ".venv (3.12.3)",
   "language": "python",
   "name": "python3"
  },
  "language_info": {
   "codemirror_mode": {
    "name": "ipython",
    "version": 3
   },
   "file_extension": ".py",
   "mimetype": "text/x-python",
   "name": "python",
   "nbconvert_exporter": "python",
   "pygments_lexer": "ipython3",
   "version": "3.12.3"
  }
 },
 "nbformat": 4,
 "nbformat_minor": 4
}
